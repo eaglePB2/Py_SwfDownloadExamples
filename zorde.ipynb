{
 "cells": [
  {
   "cell_type": "markdown",
   "id": "efbcfd22",
   "metadata": {},
   "source": [
    "<center><h1>Web Request - Z0rde</h1></center><hr>"
   ]
  },
  {
   "cell_type": "markdown",
   "id": "ee4d23f6",
   "metadata": {},
   "source": [
    "### 1. Import libraries"
   ]
  },
  {
   "cell_type": "code",
   "execution_count": 1,
   "id": "a50d8941",
   "metadata": {},
   "outputs": [],
   "source": [
    "import requests\n",
    "from requests.exceptions import HTTPError"
   ]
  },
  {
   "cell_type": "markdown",
   "id": "6557a7d8",
   "metadata": {},
   "source": [
    "### 2. Set the ending condition"
   ]
  },
  {
   "cell_type": "markdown",
   "id": "3e75f510",
   "metadata": {},
   "source": [
    "This is because the website will keep adding the files, and some of the files at the middle are removed. Therefore, we need a systematic way to determine the ending value.\n",
    "\n",
    "For now, I set it as 20 failed attempts to say this is the end of the file."
   ]
  },
  {
   "cell_type": "code",
   "execution_count": 2,
   "id": "c4caa50a",
   "metadata": {},
   "outputs": [],
   "source": [
    "max_missing = 20  \n",
    "missing_count = 0  \n",
    "x = 1 "
   ]
  },
  {
   "cell_type": "markdown",
   "id": "ee5b979b",
   "metadata": {},
   "source": [
    "### 3. Download swf"
   ]
  },
  {
   "cell_type": "code",
   "execution_count": null,
   "id": "c5153515",
   "metadata": {},
   "outputs": [],
   "source": [
    "while True:\n",
    "    url = f'https://z0r.de/L/z0r-de_{x}.swf'\n",
    "    try:\n",
    "        response = requests.get(url)\n",
    "        if response.status_code == 404:\n",
    "            print(f'{x}: Not found (404)')\n",
    "            missing_count += 1\n",
    "            if missing_count >= max_missing:\n",
    "                print(\"Reached end of files. Stopping.\")\n",
    "                break\n",
    "        else:\n",
    "            response.raise_for_status()\n",
    "            missing_count = 0\n",
    "            with open(f'result/{x}.swf', \"wb\") as file2:\n",
    "                file2.write(response.content)\n",
    "            print(f'{x}: Downloaded successfully')\n",
    "    except HTTPError as http_err:\n",
    "        print(f'HTTP error occured: {http_err}')\n",
    "    except Exception as err:\n",
    "        print(f'Other error occured: {err}')\n",
    "\n",
    "    x += 1"
   ]
  }
 ],
 "metadata": {
  "kernelspec": {
   "display_name": "Python 3",
   "language": "python",
   "name": "python3"
  },
  "language_info": {
   "codemirror_mode": {
    "name": "ipython",
    "version": 3
   },
   "file_extension": ".py",
   "mimetype": "text/x-python",
   "name": "python",
   "nbconvert_exporter": "python",
   "pygments_lexer": "ipython3",
   "version": "3.12.4"
  }
 },
 "nbformat": 4,
 "nbformat_minor": 5
}
